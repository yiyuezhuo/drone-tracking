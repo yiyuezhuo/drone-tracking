{
 "cells": [
  {
   "cell_type": "code",
   "execution_count": 3,
   "metadata": {},
   "outputs": [],
   "source": [
    "import cv2\n",
    "import os"
   ]
  },
  {
   "cell_type": "code",
   "execution_count": null,
   "metadata": {},
   "outputs": [],
   "source": [
    "for video_idx in [4,5,6]:\n",
    "    root = 'videos_frames/{}/'.format(video_idx)\n",
    "    frame_idx_list = []\n",
    "    for name in os.listdir(root):\n",
    "        pure_name, ext = os.path.splitext(name)\n",
    "        frame_idx = int(pure_name.replace('thumb',''))\n",
    "        frame_idx_list.append(frame_idx)\n",
    "    \n",
    "    os.makedirs('videos_frame/{}_diff/'.format(video_idx), exist_ok=True)\n",
    "    \n",
    "    for frame_idx in range(2,len(frame_idx_list)+1):\n",
    "        im_path = os.path.join(root, 'thumb{0:05}.png'.format(frame_idx))\n",
    "        im_prev_path = os.path.join(root, 'thumb{0:05}.png'.format(frame_idx-1))\n",
    "        \n",
    "        im = cv2.imread(im_path)\n",
    "        im_prev = cv2.imread(im_prev_path)\n",
    "        \n",
    "        return im,im_pre"
   ]
  },
  {
   "cell_type": "code",
   "execution_count": 2,
   "metadata": {},
   "outputs": [
    {
     "data": {
      "text/plain": [
       "309"
      ]
     },
     "execution_count": 2,
     "metadata": {},
     "output_type": "execute_result"
    }
   ],
   "source": [
    "int('00309')"
   ]
  },
  {
   "cell_type": "code",
   "execution_count": 10,
   "metadata": {},
   "outputs": [
    {
     "data": {
      "text/plain": [
       "'10000'"
      ]
     },
     "execution_count": 10,
     "metadata": {},
     "output_type": "execute_result"
    }
   ],
   "source": [
    "'{0:05}'.format(10000)"
   ]
  },
  {
   "cell_type": "code",
   "execution_count": null,
   "metadata": {},
   "outputs": [],
   "source": []
  }
 ],
 "metadata": {
  "kernelspec": {
   "display_name": "Python 3",
   "language": "python",
   "name": "python3"
  },
  "language_info": {
   "codemirror_mode": {
    "name": "ipython",
    "version": 3
   },
   "file_extension": ".py",
   "mimetype": "text/x-python",
   "name": "python",
   "nbconvert_exporter": "python",
   "pygments_lexer": "ipython3",
   "version": "3.7.3"
  }
 },
 "nbformat": 4,
 "nbformat_minor": 2
}
